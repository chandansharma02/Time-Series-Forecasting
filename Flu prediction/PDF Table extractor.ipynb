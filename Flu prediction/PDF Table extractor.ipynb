{
 "cells": [
  {
   "cell_type": "code",
   "execution_count": 1,
   "metadata": {},
   "outputs": [],
   "source": [
    "import camelot"
   ]
  },
  {
   "cell_type": "code",
   "execution_count": 10,
   "metadata": {},
   "outputs": [],
   "source": [
    "# from camelot import read_pdf\n",
    "\n",
    "file_path1 = \"F:\\\\All_Prep\\\\flu prediction\\\\H1N1 St-UT 2012-2019.pdf\"\n",
    "file_path2 = \"F:\\\\All_Prep\\\\flu prediction\\\\H1N1 St-UT 2012-2017.pdf\"\n",
    "\n",
    "tables1 = camelot.read_pdf(file_path1)\n",
    "tables2 = camelot.read_pdf(file_path2)\n"
   ]
  },
  {
   "cell_type": "code",
   "execution_count": 4,
   "metadata": {},
   "outputs": [],
   "source": [
    "file_path1 = \"F:\\\\All_Prep\\\\flu prediction\\\\foo.pdf\"\n",
    "tables1 = camelot.read_pdf(file_path1, process_background=True)"
   ]
  },
  {
   "cell_type": "code",
   "execution_count": 6,
   "metadata": {},
   "outputs": [
    {
     "data": {
      "text/plain": [
       "<TableList n=1>"
      ]
     },
     "execution_count": 6,
     "metadata": {},
     "output_type": "execute_result"
    }
   ],
   "source": [
    "import camelot\n",
    "tables = camelot.read_pdf(file_path1)\n",
    "tables\n"
   ]
  },
  {
   "cell_type": "code",
   "execution_count": 16,
   "metadata": {},
   "outputs": [],
   "source": [
    "import pandas as pd\n",
    "tables1[0].df.to_csv(\"2019.csv\")"
   ]
  }
 ],
 "metadata": {
  "kernelspec": {
   "display_name": "Python 3",
   "language": "python",
   "name": "python3"
  },
  "language_info": {
   "codemirror_mode": {
    "name": "ipython",
    "version": 3
   },
   "file_extension": ".py",
   "mimetype": "text/x-python",
   "name": "python",
   "nbconvert_exporter": "python",
   "pygments_lexer": "ipython3",
   "version": "3.6.5"
  }
 },
 "nbformat": 4,
 "nbformat_minor": 2
}
